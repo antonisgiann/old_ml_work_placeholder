{
 "cells": [
  {
   "cell_type": "code",
   "execution_count": 45,
   "metadata": {},
   "outputs": [],
   "source": [
    "import torch\n",
    "import torch.nn as nn\n",
    "import numpy as np\n",
    "import torch.nn.functional as F\n",
    "import torchvision.transforms as tt\n",
    "from torchvision.datasets import CIFAR10\n",
    "from torch.utils.data import DataLoader\n",
    "import matplotlib.pyplot as plt\n",
    "import pandas as pd\n",
    "import time"
   ]
  },
  {
   "cell_type": "code",
   "execution_count": 46,
   "metadata": {},
   "outputs": [
    {
     "name": "stdout",
     "output_type": "stream",
     "text": [
      "Files already downloaded and verified\n",
      "Files already downloaded and verified\n"
     ]
    }
   ],
   "source": [
    "# Load the dataset\n",
    "file_location = \"datasets/CIFAR10\"\n",
    "\n",
    "train_dataset = CIFAR10(root=file_location, download=True, train=True, transform=tt.ToTensor())\n",
    "test_dataset = CIFAR10(root=file_location, download=True, train=False, transform=tt.ToTensor())"
   ]
  },
  {
   "cell_type": "code",
   "execution_count": 47,
   "metadata": {},
   "outputs": [],
   "source": [
    "# Helper functions and class to load data and models to the GPU\n",
    "def get_device():\n",
    "    if torch.cuda.is_available():\n",
    "        return torch.device('cuda')\n",
    "    else:\n",
    "        return torch.device('cpu')\n",
    "\n",
    "def to_device(data, device):\n",
    "    if isinstance(data, (list,tuple)):\n",
    "        return [to_device(x, device) for x in data]\n",
    "    return data.to(device, non_blocking=True)\n",
    "\n",
    "class DeviceDataLoader:\n",
    "    def __init__(self, dl, device):\n",
    "        self.dl = dl\n",
    "        self.device = device\n",
    "        \n",
    "    def __iter__(self):\n",
    "        for b in self.dl:\n",
    "            yield to_device(b, self.device)\n",
    "            \n",
    "    def __len__(self):\n",
    "        return len(self.dl)"
   ]
  },
  {
   "cell_type": "code",
   "execution_count": 48,
   "metadata": {},
   "outputs": [],
   "source": [
    "batch_size = 100\n",
    "\n",
    "# Dataloaders for the datasets\n",
    "train_dl = DataLoader(train_dataset, batch_size, shuffle=True, num_workers=4, pin_memory=True)\n",
    "test_dl = DataLoader(test_dataset, batch_size, shuffle=True, num_workers=4, pin_memory=True)\n",
    "\n",
    "device = get_device()\n",
    "# Create data loaders for the GPU if available\n",
    "train_dl = DeviceDataLoader(train_dl, device)\n",
    "test_dl = DeviceDataLoader(test_dl, device)"
   ]
  },
  {
   "cell_type": "code",
   "execution_count": 49,
   "metadata": {},
   "outputs": [],
   "source": [
    "# Function for calculating the accuracy\n",
    "def accuracy(preds, labels):\n",
    "    _, probs = torch.max(preds, dim=1)\n",
    "    return torch.sum(probs == labels).item() / len(labels)\n",
    "\n",
    "\n",
    "# Function for calculating the loss on a batch and a metric if one was given\n",
    "def batch_loss(model, xb, yb, metric=None, transform=None):\n",
    "    # Generate batch predictions\n",
    "    if transform:\n",
    "        xb = transform(xb)\n",
    "    preds = model(xb) \n",
    "    metric_result = None\n",
    "    # Calculate a metric if there is one\n",
    "    if metric:\n",
    "        metric_result = metric(preds,yb)\n",
    "    # return Loss, metric and size\n",
    "    return F.cross_entropy(preds,yb), metric_result, len(xb)\n",
    "\n",
    "\n",
    "# Function to be used on the validation-test set\n",
    "def evaluate(model, test_dl, metric=None, test_transform=None):\n",
    "    # Generate predictions\n",
    "    with torch.no_grad():\n",
    "        results = [batch_loss(model,xb,yb,metric,test_transform) for xb,yb in test_dl]\n",
    "        v_loss, v_metric, size = zip(*results)\n",
    "    # return validation loss, validation accuracy and batch size\n",
    "    return v_loss, v_metric, size"
   ]
  },
  {
   "cell_type": "code",
   "execution_count": 50,
   "metadata": {},
   "outputs": [],
   "source": [
    "# Function to train a model, returns some statistics of the training\n",
    "def fit(epochs, model, train_dl, test_dl, lr, wd, grad_clip=None, opt=None,\n",
    "        train_transform=None, test_transform=None, verbose=False):\n",
    "    # Define an optimizer if none was given\n",
    "    if not opt:\n",
    "        opt = torch.optim.Adam\n",
    "    opt = opt(model.parameters(), lr=lr, weight_decay=wd)\n",
    "    \n",
    "    # Lists for some statistics\n",
    "    train_loss = []\n",
    "    valid_loss = []\n",
    "    valid_accuracy = []\n",
    "    \n",
    "    for epoch in range(epochs):\n",
    "        # Start training\n",
    "        model.train()\n",
    "        for xb,yb in train_dl:\n",
    "            # Transform the data if needed\n",
    "            loss,_,_ = batch_loss(model, xb, yb, transform=train_transform)\n",
    "            # Calculate the gradients\n",
    "            loss.backward()\n",
    "            \n",
    "            # Gradient clip\n",
    "            if grad_clip:\n",
    "                nn.utils.clip_grad_value_(model.parameters(), grad_clip)\n",
    "            \n",
    "            opt.step()\n",
    "            opt.zero_grad()\n",
    "            \n",
    "        # Start evaluation\n",
    "        v_loss, v_acc, size = evaluate(model,test_dl,accuracy,test_transform)\n",
    "        total = np.sum(size)\n",
    "        avg_v_loss = np.sum(np.multiply(v_loss,size))/total\n",
    "        avg_v_acc = np.sum(np.multiply(v_acc,size))/total\n",
    "        # Save statistics (train loss, avg loss and avg accuracy across batches)\n",
    "        train_loss.append(loss)\n",
    "        valid_loss.append(avg_v_loss)\n",
    "        valid_accuracy.append(avg_v_acc)\n",
    "        if verbose:\n",
    "            print(\"Epoch [{}/{}], train_loss: {:.4f}, valid_loss: {:.4f}, valid_acc: {:.4f}\"\n",
    "                    .format(epoch+1, epochs, loss, avg_v_loss, avg_v_acc))\n",
    "    \n",
    "    # Return train loss, validation loss and validation accuracy per epoch\n",
    "    return train_loss, valid_loss, valid_accuracy"
   ]
  },
  {
   "cell_type": "code",
   "execution_count": 51,
   "metadata": {},
   "outputs": [],
   "source": [
    "# Function that plots the train loss, validation loss and validation accuracy\n",
    "def show_stats(stats,name):\n",
    "    fig, ax = plt.subplots(1,2,figsize=(15,6))\n",
    "    fig.suptitle(\"Statistics for {}\".format(name), fontsize=14)\n",
    "    ax[0].plot(stats[name][\"tL\"], label=\"Train_loss\", marker=\"o\", markersize=4)\n",
    "    ax[0].plot(stats[name][\"vL\"], label=\"Valid_loss\", marker=\"^\", markersize=4)\n",
    "    ax[1].plot(stats[name][\"vAcc\"], label=\"Valid_accuracy\")\n",
    "    ax[0].legend()\n",
    "    ax[1].legend()\n",
    "    ax[0].set_xlabel(\"Epochs\")\n",
    "    ax[1].set_xlabel(\"Epochs\")\n",
    "    plt.show()"
   ]
  },
  {
   "cell_type": "code",
   "execution_count": 52,
   "metadata": {},
   "outputs": [],
   "source": [
    "# Calculate the mean and the std of the channels for normalization\n",
    "temp_dl = DataLoader(train_dataset, batch_size=len(train_dataset))\n",
    "imgs, label = next(iter(temp_dl))\n",
    "reds_mean = imgs[:,0,:,:].mean()\n",
    "blues_mean = imgs[:,1,:,:].mean()\n",
    "greens_mean = imgs[:,2,:,:].mean()\n",
    "reds_std = imgs[:,0,:,:].std()\n",
    "blues_std = imgs[:,1,:,:].std()\n",
    "greens_std = imgs[:,2,:,:].std()\n",
    "\n",
    "stats = ((reds_mean,blues_mean,greens_mean),(reds_std,blues_std,greens_std))\n",
    "# Transformers for the dataset\n",
    "train_transform = tt.Compose([tt.RandomCrop(32, padding=4, padding_mode=\"reflect\"),\n",
    "                              tt.RandomHorizontalFlip(),\n",
    "                              tt.Normalize(*stats)])\n",
    "test_transform = tt.Compose([tt.Normalize(*stats)])"
   ]
  },
  {
   "cell_type": "code",
   "execution_count": 53,
   "metadata": {},
   "outputs": [],
   "source": [
    "# Dictionary that will contain the performance of each model\n",
    "# The format will be { \"name of the model\": {\"training_loss\": t_loss,\n",
    "#                                            \"valid_loss\": v_loss,\n",
    "#                                            \"accuracy\": acc\n",
    "#                                            \"parameters\": par} }\n",
    "\n",
    "models_statistics = {}\n",
    "statistics = pd.DataFrame(columns=[\"Name\",\"Train_Loss\",\"Valid_Loss\",\"Accuracy\",\"Training_time\",\"Comments\"])"
   ]
  },
  {
   "cell_type": "code",
   "execution_count": 54,
   "metadata": {},
   "outputs": [],
   "source": [
    "# Helper function to get the max n values out of an array\n",
    "def avg_max(x,n):\n",
    "    sorted_indices = np.argsort(x)\n",
    "    sorted_arr = np.array(x)[sorted_indices]\n",
    "    return np.mean(sorted_arr[-n:])"
   ]
  },
  {
   "cell_type": "code",
   "execution_count": 55,
   "metadata": {},
   "outputs": [],
   "source": [
    "def save_stats(statistics,models_statistics,modelname, tL, vL, vAcc, trt, comment):\n",
    "    statistics = statistics.append({\"Name\" : modelname, \n",
    "                                \"Train_Loss\" : tL[-1].item(),\n",
    "                                \"Valid_Loss\" : vL[-1].item(),\n",
    "                                \"Accuracy\" : avg_max(vAcc,3),\n",
    "                                \"Training_time\" : trt,\n",
    "                                \"Comments\" : comment\n",
    "                               }, ignore_index=True)\n",
    "    \n",
    "    models_statistics[modelname] = {\"tL\": tL, \"vL\": vL, \"vAcc\": vAcc}\n",
    "    \n",
    "    return statistics.drop_duplicates()"
   ]
  },
  {
   "cell_type": "code",
   "execution_count": 56,
   "metadata": {},
   "outputs": [],
   "source": [
    "# Helper function for convolutional block\n",
    "def conv_2d(in_channels, out_channels, stride=1, ks=3, padding=1, pool=False):\n",
    "    layers = [nn.Conv2d(in_channels, out_channels, kernel_size=3, stride=1, padding=1),\n",
    "              nn.ReLU(),\n",
    "              nn.BatchNorm2d(out_channels)]\n",
    "    if pool: layers.append(nn.MaxPool2d(2))\n",
    "    return nn.Sequential(*layers)"
   ]
  },
  {
   "cell_type": "markdown",
   "metadata": {},
   "source": [
    "<h2>Residual convolutional neural network</h2>"
   ]
  },
  {
   "cell_type": "code",
   "execution_count": 57,
   "metadata": {},
   "outputs": [],
   "source": [
    "class ResNet12(nn.Module):\n",
    "    def __init__(self, in_channels, num_classes):\n",
    "        super().__init__()\n",
    "        \n",
    "        self.conv1 = conv_2d(in_channels, 64)\n",
    "        self.conv2 = conv_2d(64, 128)\n",
    "        self.res1 = nn.Sequential(conv_2d(128, 128), conv_2d(128, 128))\n",
    "        self.res2 = nn.Sequential(conv_2d(128, 128), conv_2d(128, 128, stride=2))\n",
    "        self.conv3 = conv_2d(128, 256, pool=True)\n",
    "        self.res3 = nn.Sequential(conv_2d(256, 256), conv_2d(256, 256))\n",
    "        self.res4 = nn.Sequential(conv_2d(256, 256), conv_2d(256, 256, stride=2))\n",
    "        self.conv4 = conv_2d(256, 256, stride=2)\n",
    "        self.final = nn.Sequential(nn.AdaptiveAvgPool2d(1),\n",
    "                                   nn.Flatten(),\n",
    "                                   nn.Linear(256,num_classes))\n",
    "        \n",
    "    def forward(self, xb):\n",
    "        out = self.conv1(xb)\n",
    "        out = self.conv2(out)\n",
    "        # First residual group\n",
    "        out = self.res1(out) + out\n",
    "        out = self.res2(out) + out\n",
    "        out = self.conv3(out)\n",
    "        # Second residual group\n",
    "        out = self.res3(out) + out\n",
    "        out = self.res4(out) + out\n",
    "        out = self.conv4(out)\n",
    "        out = self.final(out)\n",
    "        return out"
   ]
  },
  {
   "cell_type": "code",
   "execution_count": 58,
   "metadata": {},
   "outputs": [],
   "source": [
    "res12 = to_device(ResNet12(3,10), device)"
   ]
  },
  {
   "cell_type": "code",
   "execution_count": 59,
   "metadata": {},
   "outputs": [
    {
     "name": "stdout",
     "output_type": "stream",
     "text": [
      "Epoch [1/15], train_loss: 1.1939, valid_loss: 1.1224, valid_acc: 0.5927\n",
      "Epoch [2/15], train_loss: 0.8731, valid_loss: 0.8850, valid_acc: 0.6834\n",
      "Epoch [3/15], train_loss: 0.6661, valid_loss: 0.6762, valid_acc: 0.7638\n",
      "Epoch [4/15], train_loss: 0.5045, valid_loss: 0.5544, valid_acc: 0.8117\n",
      "Epoch [5/15], train_loss: 0.6404, valid_loss: 0.4806, valid_acc: 0.8353\n",
      "Epoch [6/15], train_loss: 0.3759, valid_loss: 0.4693, valid_acc: 0.8380\n",
      "Epoch [7/15], train_loss: 0.5267, valid_loss: 0.4331, valid_acc: 0.8547\n",
      "Epoch [8/15], train_loss: 0.5178, valid_loss: 0.3936, valid_acc: 0.8684\n",
      "Epoch [9/15], train_loss: 0.4331, valid_loss: 0.3953, valid_acc: 0.8654\n",
      "Epoch [10/15], train_loss: 0.2344, valid_loss: 0.3875, valid_acc: 0.8725\n",
      "Epoch [11/15], train_loss: 0.3136, valid_loss: 0.3902, valid_acc: 0.8713\n",
      "Epoch [12/15], train_loss: 0.2307, valid_loss: 0.3750, valid_acc: 0.8754\n",
      "Epoch [13/15], train_loss: 0.3142, valid_loss: 0.3630, valid_acc: 0.8774\n",
      "Epoch [14/15], train_loss: 0.2449, valid_loss: 0.3524, valid_acc: 0.8828\n",
      "Epoch [15/15], train_loss: 0.2107, valid_loss: 0.3699, valid_acc: 0.8769\n",
      "Res12 train time: 768.5585 seconds\n"
     ]
    },
    {
     "data": {
      "image/png": "[encoded data removed]",
      "text/plain": [
       "<Figure size 1080x432 with 2 Axes>"
      ]
     },
     "metadata": {
      "needs_background": "light"
     },
     "output_type": "display_data"
    }
   ],
   "source": [
    "# Train model and get statistics\n",
    "t1 = time.time()\n",
    "tL, vL, vAcc = fit(15, res12, train_dl, \n",
    "                   test_dl, lr=0.001, wd=1e-4,\n",
    "                   train_transform=train_transform, test_transform=test_transform,\n",
    "                   verbose=True)\n",
    "t2 = time.time() - t1\n",
    "print(\"Res12 train time:\", \"{:.4f} seconds\".format(t2))\n",
    "# Save model statistics\n",
    "statistics = save_stats(statistics,models_statistics,\n",
    "                        \"res12\", tL, vL, vAcc, t2, \n",
    "                        \"residual conv network with 4 residual units\")\n",
    "\n",
    "# Plot model statistics\n",
    "show_stats(models_statistics, \"res12\")"
   ]
  },
  {
   "cell_type": "code",
   "execution_count": 61,
   "metadata": {},
   "outputs": [],
   "source": [
    "import pickle\n",
    "resnet_results = [statistics, models_statistics]\n",
    "series = pickle.dumps(resnet_results)\n",
    "with open(\"resnet_results.pkl\", \"wb\") as file:\n",
    "    pickle.dump(series, file)"
   ]
  },
  {
   "cell_type": "code",
   "execution_count": null,
   "metadata": {},
   "outputs": [],
   "source": []
  }
 ],
 "metadata": {
  "kernelspec": {
   "display_name": "Python 3 (ipykernel)",
   "language": "python",
   "name": "python3"
  },
  "language_info": {
   "codemirror_mode": {
    "name": "ipython",
    "version": 3
   },
   "file_extension": ".py",
   "mimetype": "text/x-python",
   "name": "python",
   "nbconvert_exporter": "python",
   "pygments_lexer": "ipython3",
   "version": "3.10.6"
  }
 },
 "nbformat": 4,
 "nbformat_minor": 4
}
